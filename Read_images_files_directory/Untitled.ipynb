{
 "cells": [
  {
   "cell_type": "code",
   "execution_count": 44,
   "id": "2a4d5c48",
   "metadata": {},
   "outputs": [],
   "source": [
    "from PIL import Image\n",
    "from PIL import UnidentifiedImageError\n",
    "import io\n",
    "import glob\n",
    "import cv2\n",
    "image_list = []\n",
    "image_dir = []\n",
    "\n",
    "for filename in glob.glob('images/*'): \n",
    "    try:\n",
    "        im=Image.open(filename)\n",
    "        image_list.append(im) \n",
    "        image_dir.append(filename) \n",
    "               \n",
    "        temp=filename.split(\".\")\n",
    "        dtype=temp[-1]\n",
    "        temp=temp[-2].split(\"\\\\\")\n",
    "         \n",
    "        Nfile=temp[-2]+\".\"+temp[-1]\n",
    "        Nfile=Nfile.split(\"\\\\\")\n",
    "        Nfile=temp[-1]+\".\"+dtype\n",
    "\n",
    "        file2 = open(\"result/\"+temp[-1]+\".txt\", \"w\")\n",
    "        t=\"I am an image.\\nMy name is \"+Nfile\n",
    "        file2.write(str(t))\n",
    "        file2.close()\n",
    "        \n",
    "        img=cv2.imread(filename,1)\n",
    "        cv2.imwrite('result/'+temp[-1]+'.png',img)\n",
    "    except UnidentifiedImageError:\n",
    "        pass\n",
    "    \n",
    "\n"
   ]
  },
  {
   "cell_type": "code",
   "execution_count": null,
   "id": "fec3d2e3",
   "metadata": {},
   "outputs": [],
   "source": []
  }
 ],
 "metadata": {
  "kernelspec": {
   "display_name": "Python 3 (ipykernel)",
   "language": "python",
   "name": "python3"
  },
  "language_info": {
   "codemirror_mode": {
    "name": "ipython",
    "version": 3
   },
   "file_extension": ".py",
   "mimetype": "text/x-python",
   "name": "python",
   "nbconvert_exporter": "python",
   "pygments_lexer": "ipython3",
   "version": "3.9.6"
  }
 },
 "nbformat": 4,
 "nbformat_minor": 5
}
