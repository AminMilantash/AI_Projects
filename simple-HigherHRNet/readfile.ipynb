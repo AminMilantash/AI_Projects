{
 "cells": [
  {
   "cell_type": "code",
   "execution_count": 69,
   "id": "a8d93c21",
   "metadata": {},
   "outputs": [
    {
     "name": "stdout",
     "output_type": "stream",
     "text": [
      "images\\sample2.jpg\n",
      "images\\sample3.jpg\n",
      "2\n",
      "openpose/images\\sample3.jpg\n"
     ]
    }
   ],
   "source": [
    "from PIL import Image\n",
    "from PIL import UnidentifiedImageError\n",
    "import io\n",
    "import glob\n",
    "import cv2\n",
    "image_list = []\n",
    "image_dir = []\n",
    "\n",
    "for filename in glob.glob('openpose/images/*'): \n",
    "    try:\n",
    "        im=Image.open(filename)\n",
    "        image_list.append(im) \n",
    "        image_dir.append(filename) \n",
    "        temp=filename.split(\".\")\n",
    "        temp=filename.split(\"\\ \")\n",
    "        print(temp[-1])\n",
    "        #print(filename)\n",
    "    except UnidentifiedImageError:\n",
    "        pass\n",
    "    \n",
    "    \n",
    "print(len(image_list))\n",
    "print(filename)\n"
   ]
  },
  {
   "cell_type": "code",
   "execution_count": null,
   "id": "d4bbd4e7",
   "metadata": {},
   "outputs": [],
   "source": []
  },
  {
   "cell_type": "code",
   "execution_count": null,
   "id": "75583eef",
   "metadata": {},
   "outputs": [],
   "source": []
  },
  {
   "cell_type": "code",
   "execution_count": null,
   "id": "ebacb395",
   "metadata": {},
   "outputs": [],
   "source": []
  }
 ],
 "metadata": {
  "kernelspec": {
   "display_name": "Python 3 (ipykernel)",
   "language": "python",
   "name": "python3"
  },
  "language_info": {
   "codemirror_mode": {
    "name": "ipython",
    "version": 3
   },
   "file_extension": ".py",
   "mimetype": "text/x-python",
   "name": "python",
   "nbconvert_exporter": "python",
   "pygments_lexer": "ipython3",
   "version": "3.9.6"
  }
 },
 "nbformat": 4,
 "nbformat_minor": 5
}
